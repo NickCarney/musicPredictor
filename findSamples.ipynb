{
 "cells": [
  {
   "cell_type": "code",
   "execution_count": 2,
   "id": "150f278c",
   "metadata": {},
   "outputs": [],
   "source": [
    "import spotipy\n",
    "from spotipy.oauth2 import SpotifyClientCredentials\n",
    "from collections import defaultdict\n",
    "from spotipy.oauth2 import SpotifyOAuth\n",
    "\n",
    "\n",
    "client_id=\"ba503ee919b241a19afb3a14415d3095\"\n",
    "client_secret = \"41ade86e21e34517a44c1daa6102f723\"\n",
    "\n",
    "sp = spotipy.Spotify(auth_manager=SpotifyClientCredentials(client_id, client_secret))"
   ]
  },
  {
   "cell_type": "markdown",
   "id": "589c0274",
   "metadata": {},
   "source": [
    "Get playlist data and save it to json file to be used later"
   ]
  },
  {
   "cell_type": "code",
   "execution_count": 3,
   "id": "5e5b8cc1",
   "metadata": {},
   "outputs": [],
   "source": [
    "import json\n",
    "import time\n",
    "#from spotify_client_credentials import *\n",
    "\n",
    "client_credentials_manager = SpotifyClientCredentials(client_id,client_secret)\n",
    "sp = spotipy.Spotify(client_credentials_manager=client_credentials_manager)\n",
    "\n",
    "\n",
    "def get_track_ids(playlist_id):\n",
    "    music_id_list = []\n",
    "    playlist = sp.playlist(playlist_id)\n",
    "    for item in playlist['tracks']['items']:\n",
    "        music_track = item['track']\n",
    "        music_id_list.append(music_track['id'])\n",
    "    return music_id_list\n",
    "\n",
    "def get_track_data(track_id):\n",
    "    meta = sp.track(track_id)\n",
    "    track_details = {\"name\":meta['name'],\"album\":meta['album']['name'],\"artist\":meta['album']['artists'][0]['name'],\n",
    "                     \"release_date\":meta['album']['release_date'], \"duration_in_mins\":round((meta['duration_ms']*.001)/60,2)}\n",
    "    return track_details\n",
    "\n",
    "playlist_id = '1JgJbkOC4RpbLIeDNO8xGB'\n",
    "playlist_name = \"''\"+sp.playlist(playlist_id)['name']+\"''\"\n",
    "track_ids = get_track_ids(playlist_id)\n",
    "\n",
    "tracks = []\n",
    "\n",
    "for i in range(len(track_ids)):\n",
    "    time.sleep(.5)\n",
    "    track = get_track_data(track_ids[i])\n",
    "    tracks.append(track)\n",
    "\n",
    "with open('spotify_playlsit_data.json','w') as outfile:\n",
    "    json.dump(tracks,outfile,indent=4)"
   ]
  },
  {
   "cell_type": "code",
   "execution_count": 7,
   "id": "10972b2f",
   "metadata": {},
   "outputs": [],
   "source": [
    "import requests\n",
    "from bs4 import BeautifulSoup"
   ]
  },
  {
   "cell_type": "code",
   "execution_count": 16,
   "id": "3137f7cd",
   "metadata": {},
   "outputs": [
    {
     "name": "stdout",
     "output_type": "stream",
     "text": [
      "https://www.whosampled.com/The-Avalanches/Because-I%27m-Me\n",
      "None\n"
     ]
    },
    {
     "ename": "AttributeError",
     "evalue": "'NoneType' object has no attribute 'find_all'",
     "output_type": "error",
     "traceback": [
      "\u001b[0;31m---------------------------------------------------------------------------\u001b[0m",
      "\u001b[0;31mAttributeError\u001b[0m                            Traceback (most recent call last)",
      "\u001b[0;32m/var/folders/2n/flx9r9y540q9fwt1jwbl48jw0000gn/T/ipykernel_30735/1372215741.py\u001b[0m in \u001b[0;36m<module>\u001b[0;34m\u001b[0m\n\u001b[1;32m     53\u001b[0m     \u001b[0msample_box\u001b[0m \u001b[0;34m=\u001b[0m \u001b[0msoup\u001b[0m\u001b[0;34m.\u001b[0m\u001b[0mfind\u001b[0m\u001b[0;34m(\u001b[0m\u001b[0;34m'div'\u001b[0m\u001b[0;34m,\u001b[0m\u001b[0mclass_\u001b[0m\u001b[0;34m=\u001b[0m\u001b[0;34m\"list bordered-list\"\u001b[0m\u001b[0;34m)\u001b[0m\u001b[0;34m\u001b[0m\u001b[0;34m\u001b[0m\u001b[0m\n\u001b[1;32m     54\u001b[0m     \u001b[0mprint\u001b[0m\u001b[0;34m(\u001b[0m\u001b[0msample_box\u001b[0m\u001b[0;34m)\u001b[0m\u001b[0;34m\u001b[0m\u001b[0;34m\u001b[0m\u001b[0m\n\u001b[0;32m---> 55\u001b[0;31m     \u001b[0msamples\u001b[0m \u001b[0;34m=\u001b[0m \u001b[0msample_box\u001b[0m\u001b[0;34m.\u001b[0m\u001b[0mfind_all\u001b[0m\u001b[0;34m(\u001b[0m\u001b[0;34m'div'\u001b[0m\u001b[0;34m,\u001b[0m \u001b[0mclass_\u001b[0m\u001b[0;34m=\u001b[0m\u001b[0;34m'listEntry sampleEntry'\u001b[0m\u001b[0;34m)\u001b[0m\u001b[0;34m\u001b[0m\u001b[0;34m\u001b[0m\u001b[0m\n\u001b[0m\u001b[1;32m     56\u001b[0m \u001b[0;34m\u001b[0m\u001b[0m\n\u001b[1;32m     57\u001b[0m     \u001b[0;32mfor\u001b[0m \u001b[0msample\u001b[0m \u001b[0;32min\u001b[0m \u001b[0msamples\u001b[0m\u001b[0;34m:\u001b[0m\u001b[0;34m\u001b[0m\u001b[0;34m\u001b[0m\u001b[0m\n",
      "\u001b[0;31mAttributeError\u001b[0m: 'NoneType' object has no attribute 'find_all'"
     ]
    }
   ],
   "source": [
    "f = open('spotify_playlsit_data.json')\n",
    "\n",
    "playlist_data = json.load(f)\n",
    "names = []\n",
    "years = []\n",
    "count = 0\n",
    "reccomender_str = \"\"\n",
    "dict_list = []\n",
    "test = False\n",
    "for i in range(len(playlist_data)):\n",
    "    name = playlist_data[i]['name'].split(' ')\n",
    "    hyphen_name = '' \n",
    "    for j in range(len(name)):\n",
    "        if(name[j] == '-'):\n",
    "            break\n",
    "        for n in range(len(name[j])):\n",
    "            if (name[j][n] == \"'\" or name[j][n] == \"’\"):#if there is an apostrophe\n",
    "                hyphen_name += '%27'\n",
    "            elif(name[j][n] == \"&\"):\n",
    "                hyphen_name += '%26'\n",
    "            else:\n",
    "                hyphen_name += name[j][n]\n",
    "                \n",
    "        hyphen_name += '-'\n",
    "    hyphen_name = hyphen_name[:-1]\n",
    "        \n",
    "    artist = playlist_data[i]['artist'].split(' ')\n",
    "    hyphen_artist = ''\n",
    "    \n",
    "    for j in range(len(artist)):\n",
    "        if(artist[j] == '-'):\n",
    "            continue\n",
    "        for n in range(len(artist[j])):\n",
    "            if (artist[j][n] == \"'\" or artist[j][n] == \"’\"):#if there is an apostrophe\n",
    "                hyphen_artist += '%27'\n",
    "            elif(artist[j][n] == \"&\"):\n",
    "                hyphen_artist += '%26'\n",
    "            else:\n",
    "                hyphen_artist += artist[j][n]\n",
    "                \n",
    "        hyphen_artist += '-'\n",
    "    hyphen_artist = hyphen_artist[:-1]\n",
    "    url = ''\n",
    "    url = 'https://www.whosampled.com/'+str(hyphen_artist)+'/'+str(hyphen_name)\n",
    "    print(url)\n",
    "    \n",
    "    samples_URL = url+'/samples/'\n",
    "    page = requests.get(samples_URL)\n",
    "    soup = BeautifulSoup(page.content, \"html.parser\")\n",
    "\n",
    "    data = {}\n",
    "    main = soup.find()\n",
    "    sample_box = soup.find('div',class_=\"list bordered-list\")\n",
    "    print(sample_box)\n",
    "    samples = sample_box.find_all('div', class_='listEntry sampleEntry')\n",
    "\n",
    "    for sample in samples:\n",
    "\n",
    "        track_details = sample.find('div', class_='trackDetails')\n",
    "        details_inner = track_details.find('div', class_='details-inner')\n",
    "        title = details_inner.find('a', class_='title').text\n",
    "        track_artist = details_inner.find('span', class_='trackArtist').text\n",
    "        artist = track_artist.find('a').text\n",
    "        print(title,track_artist)\n",
    "\n",
    "    year = int(playlist_data[i]['release_date'].split('-')[0])\n",
    "    names.append(name)\n",
    "    years.append(year)\n",
    "    song_dict = dict(name=names[i],year=years[i])\n",
    "    dict_list.append(song_dict)\n",
    "    #print(song_dict)\n",
    "f.close()"
   ]
  },
  {
   "cell_type": "code",
   "execution_count": null,
   "id": "f9633d3c",
   "metadata": {},
   "outputs": [],
   "source": []
  }
 ],
 "metadata": {
  "kernelspec": {
   "display_name": "Python 3 (ipykernel)",
   "language": "python",
   "name": "python3"
  },
  "language_info": {
   "codemirror_mode": {
    "name": "ipython",
    "version": 3
   },
   "file_extension": ".py",
   "mimetype": "text/x-python",
   "name": "python",
   "nbconvert_exporter": "python",
   "pygments_lexer": "ipython3",
   "version": "3.9.13"
  }
 },
 "nbformat": 4,
 "nbformat_minor": 5
}
